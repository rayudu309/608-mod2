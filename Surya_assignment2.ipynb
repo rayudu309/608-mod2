{
 "cells": [
  {
   "cell_type": "code",
   "execution_count": 7,
   "id": "515462b9-e83b-4ad8-9c54-524c7266de47",
   "metadata": {},
   "outputs": [
    {
     "name": "stdout",
     "output_type": "stream",
     "text": [
      "Passed\n"
     ]
    }
   ],
   "source": [
    "grade = 85\n",
    "if grade >= 60:\n",
    "    print('Passed')"
   ]
  },
  {
   "cell_type": "code",
   "execution_count": 8,
   "id": "6e3f9821-da51-4cd1-a35d-3d3c425299fd",
   "metadata": {},
   "outputs": [
    {
     "name": "stdout",
     "output_type": "stream",
     "text": [
      "Nonzero values are true, so this will print\n"
     ]
    }
   ],
   "source": [
    "if 1:\n",
    "    print('Nonzero values are true, so this will print')"
   ]
  },
  {
   "cell_type": "code",
   "execution_count": 9,
   "id": "38d4f702-4b97-452a-94c8-9a43370ac419",
   "metadata": {},
   "outputs": [
    {
     "name": "stdout",
     "output_type": "stream",
     "text": [
      "Failed\n"
     ]
    }
   ],
   "source": [
    "grade = 50\n",
    "if grade >= 60:\n",
    "    print('Passed')\n",
    "else:\n",
    "    print('Failed')"
   ]
  },
  {
   "cell_type": "code",
   "execution_count": 10,
   "id": "508210be-c8da-4b3d-87c0-fdf2d7b3b5c2",
   "metadata": {},
   "outputs": [
    {
     "name": "stdout",
     "output_type": "stream",
     "text": [
      "B\n"
     ]
    }
   ],
   "source": [
    "grade = 80\n",
    "if grade >= 90:\n",
    "    print('A')\n",
    "elif grade >= 80:\n",
    "    print('B')\n",
    "elif grade>= 70:\n",
    "    print('C')"
   ]
  },
  {
   "cell_type": "code",
   "execution_count": 11,
   "id": "24f127b1-cb80-41ce-895d-0b409c0d075d",
   "metadata": {},
   "outputs": [],
   "source": [
    "product = 7\n",
    "while product <= 1000:\n",
    "    product = product * 7"
   ]
  },
  {
   "cell_type": "code",
   "execution_count": 12,
   "id": "c2dfff8f-13f2-42d1-afec-c82069dcb114",
   "metadata": {},
   "outputs": [
    {
     "data": {
      "text/plain": [
       "2401"
      ]
     },
     "execution_count": 12,
     "metadata": {},
     "output_type": "execute_result"
    }
   ],
   "source": [
    "product"
   ]
  },
  {
   "cell_type": "code",
   "execution_count": 13,
   "id": "91095be6-dccf-4ba0-af70-49c98f7d899a",
   "metadata": {},
   "outputs": [],
   "source": [
    "total = 1000\n",
    "for number in range(1000001):\n",
    "    total = total + number"
   ]
  },
  {
   "cell_type": "code",
   "execution_count": 14,
   "id": "566ae293-72c0-4f38-9ba9-e6025e909a8f",
   "metadata": {},
   "outputs": [
    {
     "data": {
      "text/plain": [
       "500000501000"
      ]
     },
     "execution_count": 14,
     "metadata": {},
     "output_type": "execute_result"
    }
   ],
   "source": [
    "total"
   ]
  },
  {
   "cell_type": "code",
   "execution_count": 15,
   "id": "14976f4e-a9a9-4086-987d-e6088bea273b",
   "metadata": {},
   "outputs": [],
   "source": [
    "x = 25\n",
    "x **= 2"
   ]
  },
  {
   "cell_type": "code",
   "execution_count": 16,
   "id": "76395d68-eb43-45c2-b470-1f23a2b21b26",
   "metadata": {},
   "outputs": [
    {
     "data": {
      "text/plain": [
       "625"
      ]
     },
     "execution_count": 16,
     "metadata": {},
     "output_type": "execute_result"
    }
   ],
   "source": [
    "x"
   ]
  },
  {
   "cell_type": "code",
   "execution_count": 17,
   "id": "058fa18d-a973-42d7-bf1c-db0734e5bd0b",
   "metadata": {},
   "outputs": [
    {
     "name": "stdout",
     "output_type": "stream",
     "text": [
      "Class average is 81.7\n"
     ]
    }
   ],
   "source": [
    "# initialization phase\n",
    "total = 0  # sum of grades\n",
    "grade_counter = 0\n",
    "grades = [98, 76, 71, 87, 83, 90, 57, 79, 82, 94]  # list of 10 grades\n",
    "\n",
    "# processing phase\n",
    "for grade in grades:  \n",
    "    total += grade  # add current grade to the running total\n",
    "    grade_counter += 1  # indicate that one more grade was processed\n",
    "\n",
    "# termination phase\n",
    "average = total / grade_counter\n",
    "print(f'Class average is {average}')"
   ]
  },
  {
   "cell_type": "code",
   "execution_count": 18,
   "id": "8c6b9447-ee8e-42bd-8581-d8e1047ffe7e",
   "metadata": {},
   "outputs": [
    {
     "name": "stdout",
     "output_type": "stream",
     "text": [
      "7 times 5 is 35\n"
     ]
    }
   ],
   "source": [
    "number1 = 7\n",
    "number2 = 5\n",
    "print(f'{number1} times {number2} is {number1*number2}')"
   ]
  },
  {
   "cell_type": "code",
   "execution_count": 19,
   "id": "f3f843ab-149d-4d08-92e2-a4382ed793f6",
   "metadata": {},
   "outputs": [
    {
     "name": "stdin",
     "output_type": "stream",
     "text": [
      "Enter grade, -1 to end:  -1\n"
     ]
    },
    {
     "name": "stdout",
     "output_type": "stream",
     "text": [
      "No grades were entered\n"
     ]
    }
   ],
   "source": [
    "# initialization phase\n",
    "total = 0  # sum of grades\n",
    "grade_counter = 0  # number of grades entered\n",
    "\n",
    "# processing phase\n",
    "grade = int(input('Enter grade, -1 to end: '))  # get one grade\n",
    "\n",
    "while grade != -1:\n",
    "    total += grade\n",
    "    grade_counter += 1\n",
    "    grade = int(input('Enter grade, -1 to end: '))\n",
    "\n",
    "# termination phase\n",
    "if grade_counter != 0:\n",
    "    average = total / grade_counter\n",
    "    print(f'Class average is {average:.2f}')\n",
    "else:\n",
    "    print('No grades were entered')"
   ]
  },
  {
   "cell_type": "code",
   "execution_count": 20,
   "id": "1c20c2d9-e9f7-459d-a077-cbd7cdbc4e24",
   "metadata": {},
   "outputs": [
    {
     "name": "stdout",
     "output_type": "stream",
     "text": [
      "0 1 2 3 4 5 6 7 8 9 "
     ]
    }
   ],
   "source": [
    "for number in range(100):\n",
    "    if number ==10:\n",
    "        break\n",
    "    print(number, end=' ')"
   ]
  },
  {
   "cell_type": "code",
   "execution_count": 21,
   "id": "40765c98-b633-4f3a-a9f6-5a21dcffb2a7",
   "metadata": {},
   "outputs": [],
   "source": [
    "i = 1\n",
    "j = 2\n",
    "k = 3\n",
    "m = 2"
   ]
  },
  {
   "cell_type": "code",
   "execution_count": 22,
   "id": "9811026a-68d8-4196-a5cd-0be2632363bb",
   "metadata": {},
   "outputs": [
    {
     "data": {
      "text/plain": [
       "True"
      ]
     },
     "execution_count": 22,
     "metadata": {},
     "output_type": "execute_result"
    }
   ],
   "source": [
    "(i>=1) and (j<4)"
   ]
  },
  {
   "cell_type": "code",
   "execution_count": 23,
   "id": "09102aea-8c4e-4f0f-9d5a-f27907561e65",
   "metadata": {},
   "outputs": [
    {
     "data": {
      "text/plain": [
       "False"
      ]
     },
     "execution_count": 23,
     "metadata": {},
     "output_type": "execute_result"
    }
   ],
   "source": [
    "(m <= 99) and (k < m)"
   ]
  },
  {
   "cell_type": "code",
   "execution_count": 24,
   "id": "fa6fb68e-41f3-40bf-943a-f5cb574fe011",
   "metadata": {},
   "outputs": [
    {
     "data": {
      "text/plain": [
       "True"
      ]
     },
     "execution_count": 24,
     "metadata": {},
     "output_type": "execute_result"
    }
   ],
   "source": [
    "(j>=i) or (k == m)"
   ]
  },
  {
   "cell_type": "code",
   "execution_count": 25,
   "id": "e3306238-6622-49d7-8749-1cd8a050db11",
   "metadata": {},
   "outputs": [
    {
     "data": {
      "text/plain": [
       "False"
      ]
     },
     "execution_count": 25,
     "metadata": {},
     "output_type": "execute_result"
    }
   ],
   "source": [
    "(k + m < j) or (3 - j >= k)"
   ]
  },
  {
   "cell_type": "code",
   "execution_count": 26,
   "id": "594b1c0e-e49f-402c-9e11-d5b0c3a687de",
   "metadata": {},
   "outputs": [
    {
     "data": {
      "text/plain": [
       "False"
      ]
     },
     "execution_count": 26,
     "metadata": {},
     "output_type": "execute_result"
    }
   ],
   "source": [
    "not (k>m)"
   ]
  },
  {
   "cell_type": "code",
   "execution_count": 27,
   "id": "cb88f394-fc34-4b96-bd29-5f75e962bb90",
   "metadata": {},
   "outputs": [],
   "source": [
    "grades = [85, 93, 45, 89, 85]"
   ]
  },
  {
   "cell_type": "code",
   "execution_count": 28,
   "id": "5fd1eaf5-570c-429a-9b6d-657d5e1eb219",
   "metadata": {},
   "outputs": [
    {
     "data": {
      "text/plain": [
       "5"
      ]
     },
     "execution_count": 28,
     "metadata": {},
     "output_type": "execute_result"
    }
   ],
   "source": [
    "len(grades)"
   ]
  },
  {
   "cell_type": "code",
   "execution_count": 29,
   "id": "90f664c0-88e4-47f4-80cb-63bf61e33e43",
   "metadata": {},
   "outputs": [
    {
     "data": {
      "text/plain": [
       "397"
      ]
     },
     "execution_count": 29,
     "metadata": {},
     "output_type": "execute_result"
    }
   ],
   "source": [
    "sum(grades)"
   ]
  },
  {
   "cell_type": "code",
   "execution_count": 30,
   "id": "c68738eb-a4c2-41f9-aa6a-6b8c5c088dd5",
   "metadata": {},
   "outputs": [],
   "source": [
    "mean = sum(grades)/ len(grades)"
   ]
  },
  {
   "cell_type": "code",
   "execution_count": 31,
   "id": "fe059882-e765-4283-a5a8-d6171c7f6e8e",
   "metadata": {},
   "outputs": [
    {
     "data": {
      "text/plain": [
       "79.4"
      ]
     },
     "execution_count": 31,
     "metadata": {},
     "output_type": "execute_result"
    }
   ],
   "source": [
    "mean"
   ]
  },
  {
   "cell_type": "code",
   "execution_count": 32,
   "id": "efc59512-555e-4ec6-af05-afdb948c2d6c",
   "metadata": {},
   "outputs": [],
   "source": [
    "import statistics"
   ]
  },
  {
   "cell_type": "code",
   "execution_count": 33,
   "id": "8d5b6295-8200-4f9e-a08d-74bfa624a57c",
   "metadata": {},
   "outputs": [],
   "source": [
    "values = [47, 95, 88, 73, 88, 84]"
   ]
  },
  {
   "cell_type": "code",
   "execution_count": 34,
   "id": "cc33dc24-5e18-4a34-9a02-000fc94a78a8",
   "metadata": {},
   "outputs": [
    {
     "data": {
      "text/plain": [
       "79.16666666666667"
      ]
     },
     "execution_count": 34,
     "metadata": {},
     "output_type": "execute_result"
    }
   ],
   "source": [
    "statistics.mean(values)"
   ]
  },
  {
   "cell_type": "code",
   "execution_count": 35,
   "id": "273e054b-d893-43bb-ad3d-b1a257c3a358",
   "metadata": {},
   "outputs": [
    {
     "data": {
      "text/plain": [
       "86.0"
      ]
     },
     "execution_count": 35,
     "metadata": {},
     "output_type": "execute_result"
    }
   ],
   "source": [
    "statistics.median(values)"
   ]
  },
  {
   "cell_type": "code",
   "execution_count": 36,
   "id": "00c6feca-20b2-47ae-835d-9963cb758dc7",
   "metadata": {},
   "outputs": [
    {
     "data": {
      "text/plain": [
       "88"
      ]
     },
     "execution_count": 36,
     "metadata": {},
     "output_type": "execute_result"
    }
   ],
   "source": [
    "statistics.mode(values)"
   ]
  },
  {
   "cell_type": "code",
   "execution_count": 39,
   "id": "3a18b7a0-77d5-44ed-860a-dfbac391972c",
   "metadata": {},
   "outputs": [],
   "source": [
    "#custom data set\n",
    "import statistics\n",
    "temperature = [74, 79, 84, 85, 79, 79, 72, 66, 78]\n"
   ]
  },
  {
   "cell_type": "code",
   "execution_count": 40,
   "id": "13b6588c-e7d1-418a-9cd5-8e1f2bd63a41",
   "metadata": {},
   "outputs": [
    {
     "data": {
      "text/plain": [
       "9"
      ]
     },
     "execution_count": 40,
     "metadata": {},
     "output_type": "execute_result"
    }
   ],
   "source": [
    "len(temperature)"
   ]
  },
  {
   "cell_type": "code",
   "execution_count": 41,
   "id": "7eef4607-8e69-4a57-8da3-dc73bd2a118b",
   "metadata": {},
   "outputs": [
    {
     "data": {
      "text/plain": [
       "696"
      ]
     },
     "execution_count": 41,
     "metadata": {},
     "output_type": "execute_result"
    }
   ],
   "source": [
    "sum(temperature)"
   ]
  },
  {
   "cell_type": "code",
   "execution_count": 42,
   "id": "7af8e045-fade-4c61-8429-661ebcb381a0",
   "metadata": {},
   "outputs": [
    {
     "data": {
      "text/plain": [
       "77.33333333333333"
      ]
     },
     "execution_count": 42,
     "metadata": {},
     "output_type": "execute_result"
    }
   ],
   "source": [
    "statistics.mean(temperature)"
   ]
  },
  {
   "cell_type": "code",
   "execution_count": 43,
   "id": "ddfde978-802d-4c5b-baf3-49ebd14f4a80",
   "metadata": {},
   "outputs": [
    {
     "data": {
      "text/plain": [
       "79"
      ]
     },
     "execution_count": 43,
     "metadata": {},
     "output_type": "execute_result"
    }
   ],
   "source": [
    "statistics.median(temperature)"
   ]
  },
  {
   "cell_type": "code",
   "execution_count": 44,
   "id": "5e332a9f-fd4f-4fcb-8c43-67921ec7840f",
   "metadata": {},
   "outputs": [
    {
     "data": {
      "text/plain": [
       "79"
      ]
     },
     "execution_count": 44,
     "metadata": {},
     "output_type": "execute_result"
    }
   ],
   "source": [
    "statistics.mode(temperature)"
   ]
  },
  {
   "cell_type": "code",
   "execution_count": null,
   "id": "b7a4e0c2-6512-4768-a53b-c029012d119c",
   "metadata": {},
   "outputs": [],
   "source": [
    "#surya_rayudu-assignment-2"
   ]
  }
 ],
 "metadata": {
  "kernelspec": {
   "display_name": "Python 3 (ipykernel)",
   "language": "python",
   "name": "python3"
  },
  "language_info": {
   "codemirror_mode": {
    "name": "ipython",
    "version": 3
   },
   "file_extension": ".py",
   "mimetype": "text/x-python",
   "name": "python",
   "nbconvert_exporter": "python",
   "pygments_lexer": "ipython3",
   "version": "3.9.7"
  }
 },
 "nbformat": 4,
 "nbformat_minor": 5
}
